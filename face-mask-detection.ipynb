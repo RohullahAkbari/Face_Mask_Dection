{
 "cells": [
  {
   "cell_type": "code",
   "execution_count": 1,
   "id": "a527547d",
   "metadata": {
    "execution": {
     "iopub.execute_input": "2023-06-13T08:11:31.386159Z",
     "iopub.status.busy": "2023-06-13T08:11:31.385457Z",
     "iopub.status.idle": "2023-06-13T08:11:39.313523Z",
     "shell.execute_reply": "2023-06-13T08:11:39.312562Z"
    },
    "papermill": {
     "duration": 7.935241,
     "end_time": "2023-06-13T08:11:39.315918",
     "exception": false,
     "start_time": "2023-06-13T08:11:31.380677",
     "status": "completed"
    },
    "tags": []
   },
   "outputs": [
    {
     "name": "stderr",
     "output_type": "stream",
     "text": [
      "/opt/conda/lib/python3.10/site-packages/tensorflow_io/python/ops/__init__.py:98: UserWarning: unable to load libtensorflow_io_plugins.so: unable to open file: libtensorflow_io_plugins.so, from paths: ['/opt/conda/lib/python3.10/site-packages/tensorflow_io/python/ops/libtensorflow_io_plugins.so']\n",
      "caused by: ['/opt/conda/lib/python3.10/site-packages/tensorflow_io/python/ops/libtensorflow_io_plugins.so: undefined symbol: _ZN3tsl6StatusC1EN10tensorflow5error4CodeESt17basic_string_viewIcSt11char_traitsIcEENS_14SourceLocationE']\n",
      "  warnings.warn(f\"unable to load libtensorflow_io_plugins.so: {e}\")\n",
      "/opt/conda/lib/python3.10/site-packages/tensorflow_io/python/ops/__init__.py:104: UserWarning: file system plugins are not loaded: unable to open file: libtensorflow_io.so, from paths: ['/opt/conda/lib/python3.10/site-packages/tensorflow_io/python/ops/libtensorflow_io.so']\n",
      "caused by: ['/opt/conda/lib/python3.10/site-packages/tensorflow_io/python/ops/libtensorflow_io.so: undefined symbol: _ZTVN10tensorflow13GcsFileSystemE']\n",
      "  warnings.warn(f\"file system plugins are not loaded: {e}\")\n"
     ]
    }
   ],
   "source": [
    "import tensorflow as tf\n",
    "import warnings\n",
    "warnings.filterwarnings(\"ignore\", message=\"^WARNING:tensorflow:\")"
   ]
  },
  {
   "cell_type": "code",
   "execution_count": 2,
   "id": "2e92ed7b",
   "metadata": {
    "execution": {
     "iopub.execute_input": "2023-06-13T08:11:39.323675Z",
     "iopub.status.busy": "2023-06-13T08:11:39.323056Z",
     "iopub.status.idle": "2023-06-13T08:11:39.327566Z",
     "shell.execute_reply": "2023-06-13T08:11:39.326562Z"
    },
    "papermill": {
     "duration": 0.010881,
     "end_time": "2023-06-13T08:11:39.330040",
     "exception": false,
     "start_time": "2023-06-13T08:11:39.319159",
     "status": "completed"
    },
    "tags": []
   },
   "outputs": [],
   "source": [
    "train_dir = '/kaggle/input/face-mask-dataset/FMD_DATASET'\n"
   ]
  },
  {
   "cell_type": "code",
   "execution_count": 3,
   "id": "c6047dcf",
   "metadata": {
    "execution": {
     "iopub.execute_input": "2023-06-13T08:11:39.336920Z",
     "iopub.status.busy": "2023-06-13T08:11:39.336660Z",
     "iopub.status.idle": "2023-06-13T08:11:48.288633Z",
     "shell.execute_reply": "2023-06-13T08:11:48.287712Z"
    },
    "papermill": {
     "duration": 8.957942,
     "end_time": "2023-06-13T08:11:48.290839",
     "exception": false,
     "start_time": "2023-06-13T08:11:39.332897",
     "status": "completed"
    },
    "tags": []
   },
   "outputs": [
    {
     "name": "stdout",
     "output_type": "stream",
     "text": [
      "Found 11630 images belonging to 3 classes.\n",
      "Found 2906 images belonging to 3 classes.\n"
     ]
    }
   ],
   "source": [
    "dataGenerator = tf.keras.preprocessing.image.ImageDataGenerator(rescale=1./255, horizontal_flip=True, validation_split=0.2)\n",
    "\n",
    "training_data = dataGenerator.flow_from_directory(train_dir, batch_size=64, target_size=(48, 48), shuffle=True, color_mode='grayscale', class_mode='categorical', subset='training')\n",
    "validation_set = dataGenerator.flow_from_directory(train_dir, batch_size=64, target_size=(48, 48), shuffle=True, color_mode='grayscale', class_mode='categorical', subset='validation')\n",
    "\n",
    "# testDataGenerator = tf.keras.preprocessing.image.ImageDataGenerator(rescale=1./255, horizontal_flip=True)\n",
    "# test_data = testDataGenerator.flow_from_directory(test_dir, batch_size=64, target_size=(48, 48), shuffle=True, color_mode='grayscale', class_mode='categorical')"
   ]
  },
  {
   "cell_type": "code",
   "execution_count": 4,
   "id": "82303b3f",
   "metadata": {
    "execution": {
     "iopub.execute_input": "2023-06-13T08:11:48.298990Z",
     "iopub.status.busy": "2023-06-13T08:11:48.298190Z",
     "iopub.status.idle": "2023-06-13T08:11:48.312388Z",
     "shell.execute_reply": "2023-06-13T08:11:48.311453Z"
    },
    "papermill": {
     "duration": 0.020547,
     "end_time": "2023-06-13T08:11:48.314740",
     "exception": false,
     "start_time": "2023-06-13T08:11:48.294193",
     "status": "completed"
    },
    "tags": []
   },
   "outputs": [],
   "source": [
    "def create_model():\n",
    "    weight_decay = 1e-4\n",
    "    model = tf.keras.models.Sequential()\n",
    "\n",
    "    model.add(tf.keras.layers.Conv2D(64, (4, 4), padding='same', kernel_regularizer=tf.keras.regularizers.l2(weight_decay), input_shape=(48, 48, 1)))\n",
    "    model.add(tf.keras.layers.Activation('relu'))\n",
    "    model.add(tf.keras.layers.BatchNormalization())\n",
    "    model.add(tf.keras.layers.Conv2D(128, (4, 4), padding='same', kernel_regularizer=tf.keras.regularizers.l2(weight_decay)))\n",
    "    model.add(tf.keras.layers.Activation('relu'))\n",
    "    model.add(tf.keras.layers.BatchNormalization())\n",
    "    model.add(tf.keras.layers.MaxPool2D(pool_size=(2, 2)))\n",
    "    model.add(tf.keras.layers.Dropout(0.2))\n",
    "\n",
    "    model.add(tf.keras.layers.Conv2D(128, (4, 4), padding='same', kernel_regularizer=tf.keras.regularizers.l2(weight_decay)))\n",
    "    model.add(tf.keras.layers.Activation('relu'))\n",
    "    model.add(tf.keras.layers.BatchNormalization())\n",
    "    model.add(tf.keras.layers.MaxPool2D(pool_size=(2, 2)))\n",
    "    model.add(tf.keras.layers.Dropout(0.3))\n",
    "    \n",
    "    model.add(tf.keras.layers.Conv2D(256, (4, 4), padding='same', kernel_regularizer=tf.keras.regularizers.l2(weight_decay)))\n",
    "    model.add(tf.keras.layers.Activation('relu'))\n",
    "    model.add(tf.keras.layers.BatchNormalization())\n",
    "    model.add(tf.keras.layers.Conv2D(64, (4, 4), padding='same', kernel_regularizer=tf.keras.regularizers.l2(weight_decay)))\n",
    "    model.add(tf.keras.layers.Activation('relu'))\n",
    "    model.add(tf.keras.layers.BatchNormalization())\n",
    "    model.add(tf.keras.layers.MaxPool2D(pool_size=(2, 2)))\n",
    "    model.add(tf.keras.layers.Dropout(0.4))\n",
    "    model.add(tf.keras.layers.Flatten())\n",
    "    model.add(tf.keras.layers.Dense(64, activation=\"linear\"))\n",
    "    model.add(tf.keras.layers.Activation('relu'))\n",
    "    model.add(tf.keras.layers.Dense(3, activation='softmax'))\n",
    "    \n",
    "    return model"
   ]
  },
  {
   "cell_type": "code",
   "execution_count": 5,
   "id": "cd804e93",
   "metadata": {
    "execution": {
     "iopub.execute_input": "2023-06-13T08:11:48.321797Z",
     "iopub.status.busy": "2023-06-13T08:11:48.321524Z",
     "iopub.status.idle": "2023-06-13T08:11:51.552136Z",
     "shell.execute_reply": "2023-06-13T08:11:51.551167Z"
    },
    "papermill": {
     "duration": 3.236811,
     "end_time": "2023-06-13T08:11:51.554578",
     "exception": false,
     "start_time": "2023-06-13T08:11:48.317767",
     "status": "completed"
    },
    "tags": []
   },
   "outputs": [],
   "source": [
    "model = create_model()\n",
    "\n",
    "model.compile(loss='categorical_crossentropy', optimizer=tf.keras.optimizers.Adam(), metrics=['accuracy'])"
   ]
  },
  {
   "cell_type": "code",
   "execution_count": 6,
   "id": "b267a95f",
   "metadata": {
    "execution": {
     "iopub.execute_input": "2023-06-13T08:11:51.563743Z",
     "iopub.status.busy": "2023-06-13T08:11:51.563045Z",
     "iopub.status.idle": "2023-06-13T08:11:51.568987Z",
     "shell.execute_reply": "2023-06-13T08:11:51.568076Z"
    },
    "papermill": {
     "duration": 0.012637,
     "end_time": "2023-06-13T08:11:51.571097",
     "exception": false,
     "start_time": "2023-06-13T08:11:51.558460",
     "status": "completed"
    },
    "tags": []
   },
   "outputs": [],
   "source": [
    "checkpointer = [tf.keras.callbacks.EarlyStopping(monitor = 'val_accuracy', verbose = 1, restore_best_weights=True, mode=\"max\",patience = 10),\n",
    "                tf.keras.callbacks.ModelCheckpoint(\n",
    "                    filepath='/kaggle/working/model-{epoch}.hdf5',\n",
    "                    monitor=\"val_accuracy\",\n",
    "                    verbose=1,\n",
    "                    mode=\"max\")]"
   ]
  },
  {
   "cell_type": "code",
   "execution_count": 7,
   "id": "04315d37",
   "metadata": {
    "execution": {
     "iopub.execute_input": "2023-06-13T08:11:51.578254Z",
     "iopub.status.busy": "2023-06-13T08:11:51.577988Z",
     "iopub.status.idle": "2023-06-13T08:56:39.487589Z",
     "shell.execute_reply": "2023-06-13T08:56:39.486626Z"
    },
    "papermill": {
     "duration": 2687.915824,
     "end_time": "2023-06-13T08:56:39.489919",
     "exception": false,
     "start_time": "2023-06-13T08:11:51.574095",
     "status": "completed"
    },
    "tags": []
   },
   "outputs": [
    {
     "name": "stdout",
     "output_type": "stream",
     "text": [
      "Epoch 1/100\n"
     ]
    },
    {
     "name": "stderr",
     "output_type": "stream",
     "text": [
      "2023-06-13 08:11:54.054691: E tensorflow/core/grappler/optimizers/meta_optimizer.cc:954] layout failed: INVALID_ARGUMENT: Size of values 0 does not match size of permutation 4 @ fanin shape insequential/dropout/dropout/SelectV2-2-TransposeNHWCToNCHW-LayoutOptimizer\n"
     ]
    },
    {
     "name": "stdout",
     "output_type": "stream",
     "text": [
      "142/181 [======================>.......] - ETA: 24s - loss: 0.4264 - accuracy: 0.8697"
     ]
    },
    {
     "name": "stderr",
     "output_type": "stream",
     "text": [
      "/opt/conda/lib/python3.10/site-packages/PIL/Image.py:992: UserWarning: Palette images with Transparency expressed in bytes should be converted to RGBA images\n",
      "  warnings.warn(\n"
     ]
    },
    {
     "name": "stdout",
     "output_type": "stream",
     "text": [
      "181/181 [==============================] - ETA: 0s - loss: 0.3807 - accuracy: 0.8869\n",
      "Epoch 1: saving model to /kaggle/working/model-1.hdf5\n",
      "181/181 [==============================] - 171s 883ms/step - loss: 0.3807 - accuracy: 0.8869 - val_loss: 1.7983 - val_accuracy: 0.3260\n",
      "Epoch 2/100\n",
      "181/181 [==============================] - ETA: 0s - loss: 0.1869 - accuracy: 0.9533\n",
      "Epoch 2: saving model to /kaggle/working/model-2.hdf5\n",
      "181/181 [==============================] - 87s 481ms/step - loss: 0.1869 - accuracy: 0.9533 - val_loss: 1.5723 - val_accuracy: 0.3281\n",
      "Epoch 3/100\n",
      "181/181 [==============================] - ETA: 0s - loss: 0.1502 - accuracy: 0.9650\n",
      "Epoch 3: saving model to /kaggle/working/model-3.hdf5\n",
      "181/181 [==============================] - 80s 440ms/step - loss: 0.1502 - accuracy: 0.9650 - val_loss: 1.0954 - val_accuracy: 0.6323\n",
      "Epoch 4/100\n",
      "181/181 [==============================] - ETA: 0s - loss: 0.1342 - accuracy: 0.9721\n",
      "Epoch 4: saving model to /kaggle/working/model-4.hdf5\n",
      "181/181 [==============================] - 88s 488ms/step - loss: 0.1342 - accuracy: 0.9721 - val_loss: 0.8924 - val_accuracy: 0.7167\n",
      "Epoch 5/100\n",
      "181/181 [==============================] - ETA: 0s - loss: 0.1192 - accuracy: 0.9777\n",
      "Epoch 5: saving model to /kaggle/working/model-5.hdf5\n",
      "181/181 [==============================] - 100s 556ms/step - loss: 0.1192 - accuracy: 0.9777 - val_loss: 0.8781 - val_accuracy: 0.7469\n",
      "Epoch 6/100\n",
      "181/181 [==============================] - ETA: 0s - loss: 0.1173 - accuracy: 0.9788\n",
      "Epoch 6: saving model to /kaggle/working/model-6.hdf5\n",
      "181/181 [==============================] - 88s 488ms/step - loss: 0.1173 - accuracy: 0.9788 - val_loss: 0.7471 - val_accuracy: 0.7528\n",
      "Epoch 7/100\n",
      "181/181 [==============================] - ETA: 0s - loss: 0.1004 - accuracy: 0.9848\n",
      "Epoch 7: saving model to /kaggle/working/model-7.hdf5\n",
      "181/181 [==============================] - 91s 504ms/step - loss: 0.1004 - accuracy: 0.9848 - val_loss: 1.0066 - val_accuracy: 0.7559\n",
      "Epoch 8/100\n",
      "181/181 [==============================] - ETA: 0s - loss: 0.1035 - accuracy: 0.9838\n",
      "Epoch 8: saving model to /kaggle/working/model-8.hdf5\n",
      "181/181 [==============================] - 88s 485ms/step - loss: 0.1035 - accuracy: 0.9838 - val_loss: 1.0270 - val_accuracy: 0.7233\n",
      "Epoch 9/100\n",
      "181/181 [==============================] - ETA: 0s - loss: 0.1026 - accuracy: 0.9850\n",
      "Epoch 9: saving model to /kaggle/working/model-9.hdf5\n",
      "181/181 [==============================] - 80s 443ms/step - loss: 0.1026 - accuracy: 0.9850 - val_loss: 0.8896 - val_accuracy: 0.7486\n",
      "Epoch 10/100\n",
      "181/181 [==============================] - ETA: 0s - loss: 0.0915 - accuracy: 0.9883\n",
      "Epoch 10: saving model to /kaggle/working/model-10.hdf5\n",
      "181/181 [==============================] - 86s 476ms/step - loss: 0.0915 - accuracy: 0.9883 - val_loss: 1.4095 - val_accuracy: 0.7181\n",
      "Epoch 11/100\n",
      "181/181 [==============================] - ETA: 0s - loss: 0.0946 - accuracy: 0.9864\n",
      "Epoch 11: saving model to /kaggle/working/model-11.hdf5\n",
      "181/181 [==============================] - 88s 488ms/step - loss: 0.0946 - accuracy: 0.9864 - val_loss: 1.2959 - val_accuracy: 0.7128\n",
      "Epoch 12/100\n",
      "181/181 [==============================] - ETA: 0s - loss: 0.1022 - accuracy: 0.9835\n",
      "Epoch 12: saving model to /kaggle/working/model-12.hdf5\n",
      "181/181 [==============================] - 94s 517ms/step - loss: 0.1022 - accuracy: 0.9835 - val_loss: 1.0651 - val_accuracy: 0.7434\n",
      "Epoch 13/100\n",
      "181/181 [==============================] - ETA: 0s - loss: 0.0959 - accuracy: 0.9869\n",
      "Epoch 13: saving model to /kaggle/working/model-13.hdf5\n",
      "181/181 [==============================] - 81s 449ms/step - loss: 0.0959 - accuracy: 0.9869 - val_loss: 0.8917 - val_accuracy: 0.7510\n",
      "Epoch 14/100\n",
      "181/181 [==============================] - ETA: 0s - loss: 0.0907 - accuracy: 0.9897\n",
      "Epoch 14: saving model to /kaggle/working/model-14.hdf5\n",
      "181/181 [==============================] - 93s 514ms/step - loss: 0.0907 - accuracy: 0.9897 - val_loss: 1.0670 - val_accuracy: 0.7465\n",
      "Epoch 15/100\n",
      "181/181 [==============================] - ETA: 0s - loss: 0.0924 - accuracy: 0.9889\n",
      "Epoch 15: saving model to /kaggle/working/model-15.hdf5\n",
      "181/181 [==============================] - 114s 628ms/step - loss: 0.0924 - accuracy: 0.9889 - val_loss: 0.7980 - val_accuracy: 0.7892\n",
      "Epoch 16/100\n",
      "181/181 [==============================] - ETA: 0s - loss: 0.0909 - accuracy: 0.9891\n",
      "Epoch 16: saving model to /kaggle/working/model-16.hdf5\n",
      "181/181 [==============================] - 92s 507ms/step - loss: 0.0909 - accuracy: 0.9891 - val_loss: 0.9139 - val_accuracy: 0.7517\n",
      "Epoch 17/100\n",
      "181/181 [==============================] - ETA: 0s - loss: 0.0853 - accuracy: 0.9903\n",
      "Epoch 17: saving model to /kaggle/working/model-17.hdf5\n",
      "181/181 [==============================] - 97s 536ms/step - loss: 0.0853 - accuracy: 0.9903 - val_loss: 1.1618 - val_accuracy: 0.7156\n",
      "Epoch 18/100\n",
      "181/181 [==============================] - ETA: 0s - loss: 0.0889 - accuracy: 0.9897\n",
      "Epoch 18: saving model to /kaggle/working/model-18.hdf5\n",
      "181/181 [==============================] - 103s 567ms/step - loss: 0.0889 - accuracy: 0.9897 - val_loss: 1.3057 - val_accuracy: 0.7194\n",
      "Epoch 19/100\n",
      "181/181 [==============================] - ETA: 0s - loss: 0.0911 - accuracy: 0.9895\n",
      "Epoch 19: saving model to /kaggle/working/model-19.hdf5\n",
      "181/181 [==============================] - 97s 535ms/step - loss: 0.0911 - accuracy: 0.9895 - val_loss: 3.4519 - val_accuracy: 0.4733\n",
      "Epoch 20/100\n",
      "181/181 [==============================] - ETA: 0s - loss: 0.0920 - accuracy: 0.9888\n",
      "Epoch 20: saving model to /kaggle/working/model-20.hdf5\n",
      "181/181 [==============================] - 94s 522ms/step - loss: 0.0920 - accuracy: 0.9888 - val_loss: 1.4741 - val_accuracy: 0.7073\n",
      "Epoch 21/100\n",
      "181/181 [==============================] - ETA: 0s - loss: 0.0838 - accuracy: 0.9914\n",
      "Epoch 21: saving model to /kaggle/working/model-21.hdf5\n",
      "181/181 [==============================] - 88s 487ms/step - loss: 0.0838 - accuracy: 0.9914 - val_loss: 1.2324 - val_accuracy: 0.7316\n",
      "Epoch 22/100\n",
      "181/181 [==============================] - ETA: 0s - loss: 0.0988 - accuracy: 0.9867\n",
      "Epoch 22: saving model to /kaggle/working/model-22.hdf5\n",
      "181/181 [==============================] - 89s 487ms/step - loss: 0.0988 - accuracy: 0.9867 - val_loss: 1.0575 - val_accuracy: 0.7462\n",
      "Epoch 23/100\n",
      "181/181 [==============================] - ETA: 0s - loss: 0.0913 - accuracy: 0.9903\n",
      "Epoch 23: saving model to /kaggle/working/model-23.hdf5\n",
      "181/181 [==============================] - 79s 437ms/step - loss: 0.0913 - accuracy: 0.9903 - val_loss: 1.1874 - val_accuracy: 0.7292\n",
      "Epoch 24/100\n",
      "181/181 [==============================] - ETA: 0s - loss: 0.0919 - accuracy: 0.9899\n",
      "Epoch 24: saving model to /kaggle/working/model-24.hdf5\n",
      "181/181 [==============================] - 78s 433ms/step - loss: 0.0919 - accuracy: 0.9899 - val_loss: 1.0507 - val_accuracy: 0.7677\n",
      "Epoch 25/100\n",
      "181/181 [==============================] - ETA: 0s - loss: 0.0852 - accuracy: 0.9918Restoring model weights from the end of the best epoch: 15.\n",
      "\n",
      "Epoch 25: saving model to /kaggle/working/model-25.hdf5\n",
      "181/181 [==============================] - 98s 541ms/step - loss: 0.0852 - accuracy: 0.9918 - val_loss: 1.2171 - val_accuracy: 0.7031\n",
      "Epoch 25: early stopping\n"
     ]
    }
   ],
   "source": [
    "steps_per_epoch = training_data.n // training_data.batch_size\n",
    "validation_steps = validation_set.n // validation_set.batch_size\n",
    "\n",
    "history = model.fit(x=training_data,\n",
    "                 validation_data=validation_set,\n",
    "                 epochs=100,\n",
    "                 callbacks=[checkpointer],\n",
    "                 steps_per_epoch=steps_per_epoch,\n",
    "                 validation_steps=validation_steps)"
   ]
  },
  {
   "cell_type": "code",
   "execution_count": null,
   "id": "e95e3814",
   "metadata": {
    "papermill": {
     "duration": 0.334295,
     "end_time": "2023-06-13T08:56:40.164166",
     "exception": false,
     "start_time": "2023-06-13T08:56:39.829871",
     "status": "completed"
    },
    "tags": []
   },
   "outputs": [],
   "source": []
  }
 ],
 "metadata": {
  "kernelspec": {
   "display_name": "Python 3",
   "language": "python",
   "name": "python3"
  },
  "language_info": {
   "codemirror_mode": {
    "name": "ipython",
    "version": 3
   },
   "file_extension": ".py",
   "mimetype": "text/x-python",
   "name": "python",
   "nbconvert_exporter": "python",
   "pygments_lexer": "ipython3",
   "version": "3.10.10"
  },
  "papermill": {
   "default_parameters": {},
   "duration": 2722.930875,
   "end_time": "2023-06-13T08:56:43.798227",
   "environment_variables": {},
   "exception": null,
   "input_path": "__notebook__.ipynb",
   "output_path": "__notebook__.ipynb",
   "parameters": {},
   "start_time": "2023-06-13T08:11:20.867352",
   "version": "2.4.0"
  }
 },
 "nbformat": 4,
 "nbformat_minor": 5
}
